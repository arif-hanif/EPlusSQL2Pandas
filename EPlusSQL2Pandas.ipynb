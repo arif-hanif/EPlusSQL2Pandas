{
 "metadata": {
  "name": "",
  "signature": "sha256:7199271ce8e237711578d98fb1018afa242a10bc8bc3f8fb3d579ae2d86a42e9"
 },
 "nbformat": 3,
 "nbformat_minor": 0,
 "worksheets": [
  {
   "cells": [
    {
     "cell_type": "code",
     "collapsed": false,
     "input": [
      "import os\n",
      "import numpy as np\n",
      "import pandas as pd\n",
      "import sqlite3"
     ],
     "language": "python",
     "metadata": {},
     "outputs": [],
     "prompt_number": 2
    },
    {
     "cell_type": "code",
     "collapsed": false,
     "input": [
      "sql_path = os.path.join(r'C:\\Users\\nGx\\Downloads\\Aventura\\baseline-beforeDSOAalwaysON.sql')"
     ],
     "language": "python",
     "metadata": {},
     "outputs": [],
     "prompt_number": 3
    },
    {
     "cell_type": "code",
     "collapsed": false,
     "input": [
      "# Connect an create a cursor\n",
      "conn = sqlite3.connect(sql_path)"
     ],
     "language": "python",
     "metadata": {},
     "outputs": [],
     "prompt_number": 4
    },
    {
     "cell_type": "code",
     "collapsed": false,
     "input": [
      "#Create a cursor and return the list of all tables in the database\n",
      "c = conn.cursor()\n",
      "c.execute('select name from sqlite_master where type=\"table\"').fetchall()"
     ],
     "language": "python",
     "metadata": {},
     "outputs": [
      {
       "metadata": {},
       "output_type": "pyout",
       "prompt_number": 6,
       "text": [
        "[(u'ReportVariableDataDictionary',),\n",
        " (u'ReportVariableData',),\n",
        " (u'ReportVariableExtendedData',),\n",
        " (u'ReportMeterDataDictionary',),\n",
        " (u'ReportMeterData',),\n",
        " (u'ReportMeterExtendedData',),\n",
        " (u'Time',),\n",
        " (u'Zones',),\n",
        " (u'NominalPeople',),\n",
        " (u'NominalLighting',),\n",
        " (u'NominalElectricEquipment',),\n",
        " (u'NominalGasEquipment',),\n",
        " (u'NominalSteamEquipment',),\n",
        " (u'NominalHotWaterEquipment',),\n",
        " (u'NominalOtherEquipment',),\n",
        " (u'NominalBaseboardHeaters',),\n",
        " (u'Surfaces',),\n",
        " (u'Constructions',),\n",
        " (u'ConstructionLayers',),\n",
        " (u'Materials',),\n",
        " (u'ZoneLists',),\n",
        " (u'ZoneGroups',),\n",
        " (u'NominalInfiltration',),\n",
        " (u'NominalVentilation',),\n",
        " (u'ZoneSizes',),\n",
        " (u'SystemSizes',),\n",
        " (u'ComponentSizes',),\n",
        " (u'RoomAirModels',),\n",
        " (u'Schedules',),\n",
        " (u'DaylightMaps',),\n",
        " (u'DaylightMapHourlyReports',),\n",
        " (u'DaylightMapHourlyData',),\n",
        " (u'Simulations',),\n",
        " (u'EnvironmentPeriods',),\n",
        " (u'Errors',),\n",
        " (u'TabularData',),\n",
        " (u'Strings',),\n",
        " (u'StringTypes',)]"
       ]
      }
     ],
     "prompt_number": 6
    },
    {
     "cell_type": "code",
     "collapsed": false,
     "input": [
      "#Return all column names in the table ReportVariableDataDictionary\n",
      "c.execute(\"SELECT * from ReportVariableDataDictionary\")\n",
      "col_names = list(map(lambda x: x[0], c.description))\n",
      "col_names"
     ],
     "language": "python",
     "metadata": {},
     "outputs": [
      {
       "metadata": {},
       "output_type": "pyout",
       "prompt_number": 148,
       "text": [
        "['ReportVariableDataDictionaryIndex',\n",
        " 'VariableType',\n",
        " 'IndexGroup',\n",
        " 'TimestepType',\n",
        " 'KeyValue',\n",
        " 'VariableName',\n",
        " 'ReportingFrequency',\n",
        " 'ScheduleName',\n",
        " 'VariableUnits']"
       ]
      }
     ],
     "prompt_number": 148
    },
    {
     "cell_type": "code",
     "collapsed": false,
     "input": [
      "#Load tables in pandas dataframe\n",
      "df_ReportVariableDataDictionary = pd.read_sql(\"SELECT * from ReportVariableDataDictionary\",conn, index_col='ReportVariableDataDictionaryIndex')\n",
      "df_ReportVariableData = pd.read_sql(\"SELECT * from ReportVariableData\",conn)\n",
      "df_Time = pd.read_sql(\"SELECT * from Time\",conn, index_col='TimeIndex')\n",
      "df_ReportVariableExtendedData = pd.read_sql(\"SELECT * from ReportVariableExtendedData\",conn, index_col='ReportVariableExtendedDataIndex')"
     ],
     "language": "python",
     "metadata": {},
     "outputs": [],
     "prompt_number": 228
    },
    {
     "cell_type": "code",
     "collapsed": false,
     "input": [
      "#\n",
      "pd.unique(df_Time['IntervalType'].values.ravel())"
     ],
     "language": "python",
     "metadata": {},
     "outputs": [
      {
       "metadata": {},
       "output_type": "pyout",
       "prompt_number": 125,
       "text": [
        "array([-1,  1,  3], dtype=int64)"
       ]
      }
     ],
     "prompt_number": 125
    },
    {
     "cell_type": "code",
     "collapsed": false,
     "input": [
      "#EnvironmentPeriodIndex is very important. We'll want one dataframe per it, or a multi index\n",
      "pd.unique(df_Time['EnvironmentPeriodIndex'].ravel())"
     ],
     "language": "python",
     "metadata": {},
     "outputs": [
      {
       "metadata": {},
       "output_type": "pyout",
       "prompt_number": 170,
       "text": [
        "array([1, 2, 3, 4, 5, 6, 7, 8], dtype=int64)"
       ]
      }
     ],
     "prompt_number": 170
    },
    {
     "cell_type": "code",
     "collapsed": false,
     "input": [
      "df_EnvironmentPeriods = pd.read_sql(\"SELECT * from EnvironmentPeriods\",conn)"
     ],
     "language": "python",
     "metadata": {},
     "outputs": [],
     "prompt_number": 171
    },
    {
     "cell_type": "code",
     "collapsed": false,
     "input": [
      "df_EnvironmentPeriods #is there another table where EnvironmentType is defined? doesn't matter much"
     ],
     "language": "python",
     "metadata": {},
     "outputs": [
      {
       "html": [
        "<div style=\"max-height:1000px;max-width:1500px;overflow:auto;\">\n",
        "<table border=\"1\" class=\"dataframe\">\n",
        "  <thead>\n",
        "    <tr style=\"text-align: right;\">\n",
        "      <th></th>\n",
        "      <th>EnvironmentPeriodIndex</th>\n",
        "      <th>SimulationIndex</th>\n",
        "      <th>EnvironmentName</th>\n",
        "      <th>EnvironmentType</th>\n",
        "    </tr>\n",
        "  </thead>\n",
        "  <tbody>\n",
        "    <tr>\n",
        "      <th>0</th>\n",
        "      <td> 1</td>\n",
        "      <td> 1</td>\n",
        "      <td>         MIAMI INTL AP ANN CLG .4% CONDNS DB=&gt;MWB</td>\n",
        "      <td> 1</td>\n",
        "    </tr>\n",
        "    <tr>\n",
        "      <th>1</th>\n",
        "      <td> 2</td>\n",
        "      <td> 1</td>\n",
        "      <td>         MIAMI INTL AP ANN CLG .4% CONDNS DP=&gt;MDB</td>\n",
        "      <td> 1</td>\n",
        "    </tr>\n",
        "    <tr>\n",
        "      <th>2</th>\n",
        "      <td> 3</td>\n",
        "      <td> 1</td>\n",
        "      <td>       MIAMI INTL AP ANN CLG .4% CONDNS ENTH=&gt;MDB</td>\n",
        "      <td> 1</td>\n",
        "    </tr>\n",
        "    <tr>\n",
        "      <th>3</th>\n",
        "      <td> 4</td>\n",
        "      <td> 1</td>\n",
        "      <td>         MIAMI INTL AP ANN CLG .4% CONDNS WB=&gt;MDB</td>\n",
        "      <td> 1</td>\n",
        "    </tr>\n",
        "    <tr>\n",
        "      <th>4</th>\n",
        "      <td> 5</td>\n",
        "      <td> 1</td>\n",
        "      <td>            MIAMI INTL AP ANN HTG 99.6% CONDNS DB</td>\n",
        "      <td> 1</td>\n",
        "    </tr>\n",
        "    <tr>\n",
        "      <th>5</th>\n",
        "      <td> 6</td>\n",
        "      <td> 1</td>\n",
        "      <td> MIAMI INTL AP ANN HTG WIND 99.6% CONDNS WS=&gt;MCDB</td>\n",
        "      <td> 1</td>\n",
        "    </tr>\n",
        "    <tr>\n",
        "      <th>6</th>\n",
        "      <td> 7</td>\n",
        "      <td> 1</td>\n",
        "      <td>    MIAMI INTL AP ANN HUM_N 99.6% CONDNS DP=&gt;MCDB</td>\n",
        "      <td> 1</td>\n",
        "    </tr>\n",
        "    <tr>\n",
        "      <th>7</th>\n",
        "      <td> 8</td>\n",
        "      <td> 1</td>\n",
        "      <td>                                     RUN PERIOD 1</td>\n",
        "      <td> 3</td>\n",
        "    </tr>\n",
        "  </tbody>\n",
        "</table>\n",
        "</div>"
       ],
       "metadata": {},
       "output_type": "pyout",
       "prompt_number": 178,
       "text": [
        "   EnvironmentPeriodIndex  SimulationIndex  \\\n",
        "0                       1                1   \n",
        "1                       2                1   \n",
        "2                       3                1   \n",
        "3                       4                1   \n",
        "4                       5                1   \n",
        "5                       6                1   \n",
        "6                       7                1   \n",
        "7                       8                1   \n",
        "\n",
        "                                    EnvironmentName  EnvironmentType  \n",
        "0          MIAMI INTL AP ANN CLG .4% CONDNS DB=>MWB                1  \n",
        "1          MIAMI INTL AP ANN CLG .4% CONDNS DP=>MDB                1  \n",
        "2        MIAMI INTL AP ANN CLG .4% CONDNS ENTH=>MDB                1  \n",
        "3          MIAMI INTL AP ANN CLG .4% CONDNS WB=>MDB                1  \n",
        "4             MIAMI INTL AP ANN HTG 99.6% CONDNS DB                1  \n",
        "5  MIAMI INTL AP ANN HTG WIND 99.6% CONDNS WS=>MCDB                1  \n",
        "6     MIAMI INTL AP ANN HUM_N 99.6% CONDNS DP=>MCDB                1  \n",
        "7                                      RUN PERIOD 1                3  "
       ]
      }
     ],
     "prompt_number": 178
    },
    {
     "cell_type": "markdown",
     "metadata": {},
     "source": [
      "<h3>pd.merge: how argument</h3>\n",
      "\n",
      "| Merge Method | SQL Join Name    | Description                        |\n",
      "|--------------|------------------|------------------------------------|\n",
      "| left         | LEFT OUTER JOIN  | Use keys from left frame only      |\n",
      "| right        | RIGHT OUTER JOIN | Use keys from right frame only     |\n",
      "| outer        | FULL OUTER JOIN  | Use union of keys from both frames |\n",
      "| inner        | INNER JOIN       | Use intersection of keys from both frames |"
     ]
    },
    {
     "cell_type": "code",
     "collapsed": false,
     "input": [
      "#This is a (LEFT) OUTER JOIN\n",
      "df_1= pd.merge(df_ReportVariableData, df_ReportVariableDataDictionary, how='left', left_on='ReportVariableDataDictionaryIndex', right_index=True)"
     ],
     "language": "python",
     "metadata": {},
     "outputs": [],
     "prompt_number": 179
    },
    {
     "cell_type": "code",
     "collapsed": false,
     "input": [
      "df_1[:7]"
     ],
     "language": "python",
     "metadata": {},
     "outputs": [
      {
       "html": [
        "<div style=\"max-height:1000px;max-width:1500px;overflow:auto;\">\n",
        "<table border=\"1\" class=\"dataframe\">\n",
        "  <thead>\n",
        "    <tr style=\"text-align: right;\">\n",
        "      <th></th>\n",
        "      <th>TimeIndex</th>\n",
        "      <th>ReportVariableDataDictionaryIndex</th>\n",
        "      <th>VariableValue</th>\n",
        "      <th>ReportVariableExtendedDataIndex</th>\n",
        "      <th>VariableType</th>\n",
        "      <th>IndexGroup</th>\n",
        "      <th>TimestepType</th>\n",
        "      <th>KeyValue</th>\n",
        "      <th>VariableName</th>\n",
        "      <th>ReportingFrequency</th>\n",
        "      <th>ScheduleName</th>\n",
        "      <th>VariableUnits</th>\n",
        "    </tr>\n",
        "  </thead>\n",
        "  <tbody>\n",
        "    <tr>\n",
        "      <th>0</th>\n",
        "      <td>  2</td>\n",
        "      <td> 60</td>\n",
        "      <td> 5.214522e+08</td>\n",
        "      <td>NaN</td>\n",
        "      <td> Sum</td>\n",
        "      <td> Facility:Electricity</td>\n",
        "      <td> HVAC System</td>\n",
        "      <td>                                        </td>\n",
        "      <td>  Electricity:Facility</td>\n",
        "      <td> Zone Timestep</td>\n",
        "      <td> None</td>\n",
        "      <td> J</td>\n",
        "    </tr>\n",
        "    <tr>\n",
        "      <th>1</th>\n",
        "      <td>  4</td>\n",
        "      <td> 60</td>\n",
        "      <td> 5.212399e+08</td>\n",
        "      <td>NaN</td>\n",
        "      <td> Sum</td>\n",
        "      <td> Facility:Electricity</td>\n",
        "      <td> HVAC System</td>\n",
        "      <td>                                        </td>\n",
        "      <td>  Electricity:Facility</td>\n",
        "      <td> Zone Timestep</td>\n",
        "      <td> None</td>\n",
        "      <td> J</td>\n",
        "    </tr>\n",
        "    <tr>\n",
        "      <th>2</th>\n",
        "      <td>  6</td>\n",
        "      <td> 60</td>\n",
        "      <td> 5.210268e+08</td>\n",
        "      <td>NaN</td>\n",
        "      <td> Sum</td>\n",
        "      <td> Facility:Electricity</td>\n",
        "      <td> HVAC System</td>\n",
        "      <td>                                        </td>\n",
        "      <td>  Electricity:Facility</td>\n",
        "      <td> Zone Timestep</td>\n",
        "      <td> None</td>\n",
        "      <td> J</td>\n",
        "    </tr>\n",
        "    <tr>\n",
        "      <th>3</th>\n",
        "      <td>  8</td>\n",
        "      <td> 60</td>\n",
        "      <td> 5.208190e+08</td>\n",
        "      <td>NaN</td>\n",
        "      <td> Sum</td>\n",
        "      <td> Facility:Electricity</td>\n",
        "      <td> HVAC System</td>\n",
        "      <td>                                        </td>\n",
        "      <td>  Electricity:Facility</td>\n",
        "      <td> Zone Timestep</td>\n",
        "      <td> None</td>\n",
        "      <td> J</td>\n",
        "    </tr>\n",
        "    <tr>\n",
        "      <th>4</th>\n",
        "      <td> 10</td>\n",
        "      <td> 60</td>\n",
        "      <td> 5.206105e+08</td>\n",
        "      <td>NaN</td>\n",
        "      <td> Sum</td>\n",
        "      <td> Facility:Electricity</td>\n",
        "      <td> HVAC System</td>\n",
        "      <td>                                        </td>\n",
        "      <td>  Electricity:Facility</td>\n",
        "      <td> Zone Timestep</td>\n",
        "      <td> None</td>\n",
        "      <td> J</td>\n",
        "    </tr>\n",
        "    <tr>\n",
        "      <th>5</th>\n",
        "      <td> 12</td>\n",
        "      <td> 60</td>\n",
        "      <td> 5.204016e+08</td>\n",
        "      <td>NaN</td>\n",
        "      <td> Sum</td>\n",
        "      <td> Facility:Electricity</td>\n",
        "      <td> HVAC System</td>\n",
        "      <td>                                        </td>\n",
        "      <td>  Electricity:Facility</td>\n",
        "      <td> Zone Timestep</td>\n",
        "      <td> None</td>\n",
        "      <td> J</td>\n",
        "    </tr>\n",
        "    <tr>\n",
        "      <th>6</th>\n",
        "      <td> 13</td>\n",
        "      <td>  6</td>\n",
        "      <td> 6.702972e+00</td>\n",
        "      <td>NaN</td>\n",
        "      <td> Avg</td>\n",
        "      <td>                 Zone</td>\n",
        "      <td> HVAC System</td>\n",
        "      <td> 1-TOP-RIGHT-RESTROOMS BACK_SPACE_PEOPLE</td>\n",
        "      <td> People Occupant Count</td>\n",
        "      <td>        Hourly</td>\n",
        "      <td> None</td>\n",
        "      <td>  </td>\n",
        "    </tr>\n",
        "  </tbody>\n",
        "</table>\n",
        "</div>"
       ],
       "metadata": {},
       "output_type": "pyout",
       "prompt_number": 180,
       "text": [
        "   TimeIndex  ReportVariableDataDictionaryIndex  VariableValue  \\\n",
        "0          2                                 60   5.214522e+08   \n",
        "1          4                                 60   5.212399e+08   \n",
        "2          6                                 60   5.210268e+08   \n",
        "3          8                                 60   5.208190e+08   \n",
        "4         10                                 60   5.206105e+08   \n",
        "5         12                                 60   5.204016e+08   \n",
        "6         13                                  6   6.702972e+00   \n",
        "\n",
        "   ReportVariableExtendedDataIndex VariableType            IndexGroup  \\\n",
        "0                              NaN          Sum  Facility:Electricity   \n",
        "1                              NaN          Sum  Facility:Electricity   \n",
        "2                              NaN          Sum  Facility:Electricity   \n",
        "3                              NaN          Sum  Facility:Electricity   \n",
        "4                              NaN          Sum  Facility:Electricity   \n",
        "5                              NaN          Sum  Facility:Electricity   \n",
        "6                              NaN          Avg                  Zone   \n",
        "\n",
        "  TimestepType                                 KeyValue  \\\n",
        "0  HVAC System                                            \n",
        "1  HVAC System                                            \n",
        "2  HVAC System                                            \n",
        "3  HVAC System                                            \n",
        "4  HVAC System                                            \n",
        "5  HVAC System                                            \n",
        "6  HVAC System  1-TOP-RIGHT-RESTROOMS BACK_SPACE_PEOPLE   \n",
        "\n",
        "            VariableName ReportingFrequency ScheduleName VariableUnits  \n",
        "0   Electricity:Facility      Zone Timestep         None             J  \n",
        "1   Electricity:Facility      Zone Timestep         None             J  \n",
        "2   Electricity:Facility      Zone Timestep         None             J  \n",
        "3   Electricity:Facility      Zone Timestep         None             J  \n",
        "4   Electricity:Facility      Zone Timestep         None             J  \n",
        "5   Electricity:Facility      Zone Timestep         None             J  \n",
        "6  People Occupant Count             Hourly         None                "
       ]
      }
     ],
     "prompt_number": 180
    },
    {
     "cell_type": "code",
     "collapsed": false,
     "input": [
      "len(df_ReportVariableData), len(df_ReportVariableDataDictionary), len(df_1)"
     ],
     "language": "python",
     "metadata": {},
     "outputs": [
      {
       "metadata": {},
       "output_type": "pyout",
       "prompt_number": 181,
       "text": [
        "(2893679, 372, 2893679)"
       ]
      }
     ],
     "prompt_number": 181
    },
    {
     "cell_type": "code",
     "collapsed": false,
     "input": [
      "df_2 = pd.merge(df_1, df_Time, how='left',right_index=True, left_on='TimeIndex')"
     ],
     "language": "python",
     "metadata": {},
     "outputs": [],
     "prompt_number": 182
    },
    {
     "cell_type": "code",
     "collapsed": false,
     "input": [
      "len(df_2), len(df_1), len(df_Time)"
     ],
     "language": "python",
     "metadata": {},
     "outputs": [
      {
       "metadata": {},
       "output_type": "pyout",
       "prompt_number": 183,
       "text": [
        "(2893679, 2893679, 116083)"
       ]
      }
     ],
     "prompt_number": 183
    },
    {
     "cell_type": "heading",
     "level": 2,
     "metadata": {},
     "source": [
      "df_2[:10]"
     ]
    },
    {
     "cell_type": "heading",
     "level": 2,
     "metadata": {},
     "source": [
      "Now it's a matter of reindexing rows and columns in a smart way... and I'm lost"
     ]
    },
    {
     "cell_type": "code",
     "collapsed": false,
     "input": [],
     "language": "python",
     "metadata": {},
     "outputs": []
    },
    {
     "cell_type": "code",
     "collapsed": false,
     "input": [],
     "language": "python",
     "metadata": {},
     "outputs": []
    },
    {
     "cell_type": "code",
     "collapsed": false,
     "input": [],
     "language": "python",
     "metadata": {},
     "outputs": []
    },
    {
     "cell_type": "heading",
     "level": 2,
     "metadata": {},
     "source": [
      "Is Merging with time first better?"
     ]
    },
    {
     "cell_type": "markdown",
     "metadata": {},
     "source": [
      "i would just join the data to the time, and then create a dictionary mapping reportvariabledatadictionaryindex to the created column name you want. Then add those columns to the dataframe and loop through each row to assign, the data value to the right column, finally dropping the columns you don't want\n",
      "not super fast\n",
      "but should work"
     ]
    },
    {
     "cell_type": "code",
     "collapsed": false,
     "input": [
      "#This is a (LEFT) OUTER JOIN\n",
      "df_1b= pd.merge(df_ReportVariableData, df_Time, how='left', left_on='TimeIndex', right_index=True)"
     ],
     "language": "python",
     "metadata": {},
     "outputs": [],
     "prompt_number": 191
    },
    {
     "cell_type": "code",
     "collapsed": false,
     "input": [
      "df_2b = pd.merge(df_1b, df_ReportVariableDataDictionary, how='left', left_on='ReportVariableDataDictionaryIndex', right_index=True)"
     ],
     "language": "python",
     "metadata": {},
     "outputs": [],
     "prompt_number": 192
    },
    {
     "cell_type": "code",
     "collapsed": false,
     "input": [],
     "language": "python",
     "metadata": {},
     "outputs": []
    },
    {
     "cell_type": "code",
     "collapsed": false,
     "input": [],
     "language": "python",
     "metadata": {},
     "outputs": []
    },
    {
     "cell_type": "heading",
     "level": 2,
     "metadata": {},
     "source": [
      "To integrate later: Before joinging, working on ReportVariableDataDictionary"
     ]
    },
    {
     "cell_type": "code",
     "collapsed": false,
     "input": [],
     "language": "python",
     "metadata": {},
     "outputs": [
      {
       "metadata": {},
       "output_type": "pyout",
       "prompt_number": 216,
       "text": [
        "VariableType          object\n",
        "IndexGroup            object\n",
        "TimestepType          object\n",
        "KeyValue              object\n",
        "VariableName          object\n",
        "ReportingFrequency    object\n",
        "ScheduleName          object\n",
        "VariableUnits         object\n",
        "FullName              object\n",
        "dtype: object"
       ]
      }
     ],
     "prompt_number": 216
    },
    {
     "cell_type": "code",
     "collapsed": false,
     "input": [
      "#Optional\n",
      "#df_ReportVariableDataDictionary.dtypes\n",
      "#df_ReportVariableDataDictionary[['KeyValue', 'VariableName','ReportingFrequency']] = df_ReportVariableDataDictionary[['KeyValue', 'VariableName','ReportingFrequency']].astype(str)"
     ],
     "language": "python",
     "metadata": {},
     "outputs": [],
     "prompt_number": 217
    },
    {
     "cell_type": "code",
     "collapsed": false,
     "input": [
      "df_ReportVariableDataDictionary['FullName'] = df_ReportVariableDataDictionary['KeyValue'] + \":\" + df_ReportVariableDataDictionary['VariableName']+ \" (\" + df_ReportVariableDataDictionary['ReportingFrequency'] + \")\""
     ],
     "language": "python",
     "metadata": {},
     "outputs": [],
     "prompt_number": 229
    },
    {
     "cell_type": "code",
     "collapsed": false,
     "input": [
      "df_ReportVariableDataDictionary['FullName'][6]"
     ],
     "language": "python",
     "metadata": {},
     "outputs": [
      {
       "metadata": {},
       "output_type": "pyout",
       "prompt_number": 230,
       "text": [
        "u'1-TOP-RIGHT-RESTROOMS BACK_SPACE_PEOPLE:People Occupant Count (Hourly)'"
       ]
      }
     ],
     "prompt_number": 230
    },
    {
     "cell_type": "code",
     "collapsed": false,
     "input": [],
     "language": "python",
     "metadata": {},
     "outputs": []
    }
   ],
   "metadata": {}
  }
 ]
}